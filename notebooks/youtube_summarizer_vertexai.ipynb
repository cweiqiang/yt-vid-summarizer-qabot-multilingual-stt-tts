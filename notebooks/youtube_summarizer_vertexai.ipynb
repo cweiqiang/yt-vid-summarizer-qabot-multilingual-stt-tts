{
 "cells": [
  {
   "attachments": {},
   "cell_type": "markdown",
   "metadata": {},
   "source": [
    "The following code snippets for Youtube video transript summarizer are adapted from\n",
    "\n",
    "https://github.com/royca/yt-gpt/tree/master\n",
    "\n",
    "by replacing\n",
    "- the original url with the url of the video to be summarized\n",
    "- the OpenAI LLM model with the VertexAI model for summarization"
   ]
  },
  {
   "cell_type": "code",
   "execution_count": 19,
   "metadata": {},
   "outputs": [
    {
     "name": "stdout",
     "output_type": "stream",
     "text": [
      "\n",
      "\n",
      "\u001b[1m> Entering new  chain...\u001b[0m\n",
      "\n",
      "\n",
      "\u001b[1m> Entering new  chain...\u001b[0m\n",
      "Prompt after formatting:\n",
      "\u001b[32;1m\u001b[1;3mSummarize the youtube video whose transcript is provided within backticks             ```Long, long ago, there was a place in the desert called Bottleland... Hmm? You wanted to learn more about Bottleland? I left that place long ago... But I still clearly remember its beautiful sights, even to this day Whenever travelers ask me how to travel to Bottleland I warn them that the desert is a very dangerous place Despite the risks... There will always be enthusiastic newcomers who venture into the desert... Haha! The treasures of Bottleland are as good as mine! I'm sorry, Mom... I shouldn't have played with magic like that... Now I can't find my way back home The desert entices people with hope... But it devours that hope from the moment they step foot within its scorching domain... But that magic bottle can bring forth an endless and refreshing spring Revitalizing the hopes that had shriveled in the arid desert My dear, weary traveler... Why do you wish to enter the desert? Are you so determined to find Bottleland? Alright... I'll help you then She's so solid and tough, but also clear and open... like an ice cube Is that why she's able to dance anytime and anywhere she wishes? Klee, quick! Get in the light... Coming! Kaeya can be the \"Master Thief\" Mr. Honorary Knight can be... the \"Knight\" And Paimon will be the \"Fairy\" Ahem! Now, as the caretaker and your mascot, I shall announce your respective adventure duties! Hee-hee, let's go!!! This cart is fast! Chugga-chugga, chugga-chugga, woo-woooo! Hehe, I'm gonna call it the Choo-Choo Cart! Uh, seems Kokomi's out of it after that ride... Look at that huge tent... Do any of you have experience being on stage? Once the stage lights turn on, everyone's attention is focused on you Uh... I can't stand that feeling... \"Mommy is busy these days and can't take you out to play But there's good news — I have a friend who has very kindly invited you to visit her!\" Hello, everyone! Welcome to the Genshin Impact Version 3.8 Special Program! Woo-hoo! Yay! I'm your host, Zach Aguilar, the voice of Aether! And as always, I'm joined by some very special guests today... Hello everybody! I'm Poonam Basu And I voice Spark Knight Klee of the Knights of Favonius! She's so cute Hello everyone! I'm Risa Mei The voice of Watatsumi Island's Divine Priestess, Sangonomiya Kokomi Wow, so relaxing and elegant... And I am Suzie Yeung The voice of the Captain of the Reconnaissance Company And the Spindrift Knight, Eula! \"Vengeance will be mine!\" Whoa! Mark my words! I will. I'm super excited to have you all on the program today And I believe this is the first time we've had Risa and Suzie with us! Oh my gosh, yay! Yeah! I get to be mini Eula! You're so cute I've always wanted to be on the special program Oh my gosh, yeah! I'm so happy, yeah! I'm glad to have you both here this time We have an interesting format for today's special program We'll be taking on some acting roles As we explore a mysterious ancient desert nation known as Bottleland And in this process, we'll be revealing upcoming content for the new version Please note that these special roles are not the characters we play in Genshin Impact But just for the setting of our story today! Ooh, that sounds so interesting So what are everybody's roles? I'll be playing a treasure-seeking adventurer in the desert I'm a little mage who left Bottleland So fitting~ And guess what I'll be? A knight from Bottleland Perfect! And I'll be... a guide from Bottleland Wow! W—Wait a second How come I'm the only one not from Bottleland!? \"Outlander, your journey ends here!\" Nooo! Uh... You're not invited What? I guess I'm just kidding, Zach. It's fine Okay, good, whew... And this fairytale game has a Game Master, let's welcome... Hey everyone! I'm Rachel Kimsey And I'm the voice of Mage Alice I'll be telling the fairytale with you! Now, let's begin exploring the first act of our story: \"The Little Mage's Magic\" Oh, umm, wait, are we starting already? Yep! Let's see what the fairytale will reveal first... And... action! The exact location of Bottleland can't be found on any map Its very existence can be difficult to prove But I know of a mage who once used her magic powers to leave Bottleland The Little Mage was practicing her magic as the Grand Mage had instructed... As usual, she started slacking off during her practice She already knew the Grand Mage's magic tomes from cover to cover And she stumbled on some strange incantations in the newer books Teleportation magic!? ...Oh, I want to visit every kingdom that I've read about in the storybooks! The Little Mage was very brave and confident So she was not afraid of venturing out on her own In fact, she believed that the bad guys were the ones who should be afraid of her After taking a few moments to compose herself She began to recite the new magic spells she had just learned The God of Fortune was evidently looking after her Without even knowing her destination The Little Bottleland Mage left her home Wow, it really worked. Amazing! The Little Mage seemed like a child in a candy shop with an endless amount of Mora in her pocket She was excited to try all the different incantations she found As if they were different flavors of candy Divination magic? \"When spring water drops down pure and clear, into the future one may peer\"... Oh, this is just what I need! The Little Mage simply believed that these were miracles that were foretold in the prophecy Alright... Let's look at what the bottle foresees! Show me what we'll find in this adventure! Oh, it looks like the info on the upcoming event wishes has appeared Yep In the first part of Version 3.8 Klee and Eula will be returning with their own event wishes I'm so happy that Klee's back, you guys! It's been 84 years... And now I'm back with a vengeance Yeah! Okay... Besides us, who else can we expect for the next part? Well, looks like for the next part of Version 3.8 We'll have returning event wishes for Sangonomiya Kokomi and the Wanderer Great! Yeah! This will be the perfect chance to hang out with some old friends Oooh, okay, speaking of hangouts... Kaeya will get his very own Hangout Event in Version 3.8 Nice Nice! I love Kaeya! These Hangout Events are great for getting to know more about a character Kaeya definitely has always been quite the mysterious guy So I'm super curious as to what we'll get to learn about him Oh, look! The bottle is still changing! Klee-fi-fo-fum, I'm a mage just like my mom! Psst, c'mon, let's sneak off on an adventure! But nobody else can know This is amazing, Klee and Kaeya are both getting new outfits! No way Wow, Klee's outfit actually makes her look like a little mage! Aww! She's so cute! I'm so excited, y'all She's like a little toadstool! Oh, guys look at Kaeya! Kaeya's outfit seems to be pirate-themed I love this for Kaeya Wait, y'all, I bet the styles of these outfits are somehow related to Version 3.8's main event story Oh, okay... Well, I mean... I don't know about anybody else But I'm a little bit curious about what kind of events we'll see, too You know what, before we get to that Why don't we take a quick break and grab our second Redemption Code! Sweet, totally! Welcome back to the Version 3.8 Special Program We'll be continuing our story about exploring the mysterious and ancient place known as Bottleland Our last clues came from the Little Mage... But I don't have any more story to share for now Well, I guess I have something here... It looks like \"the Knight and the Guide will be reunited in Bottleland\" Okay then, shall we continue our performance? Hehe, welcome back everyone Let's continue our story with Act 2: Legend of the Magic Bottle Of course, there were travelers who found and entered Bottleland Though most travelers chose to remain there There were also some who decided to return to their homelands But, their accounts of Bottleland were all very different If you ask me... it's been too long since I've left that place... Ahem, shouldn't we call it the \"Veluriyam Mirage\"? \"Welcome back, dear knight\" We're in Bottleland! Yep yep, and we've found lots of information to share with everybody, so strap in! So first of all, we have our main event for Version 3.8, which won't be on an island like usual Instead, it takes place inside a bottle located somewhere in the desert There will be many items called Joyeux Vouchers, which are scattered throughout the areas Travelers will be able to collect them to obtain some rewards Yep, including Kaeya's new outfit! Yes! I need to get that... Well, since it's the desert I think it's safe to assume that we'll be seeing a variety of terrain, you think? Uh, I hope the vouchers won't be hidden in some extremely hard-to-reach places It might be I know, right? But there's no need to worry Because the Travelers are going to have some tools to assist them in their search So, for example right, we can use these crystals to help us locate vouchers more easily And, in addition to collecting vouchers Bottleland also has many unique attractions Absolutely! So first up, we have the Preprints There are Streaming Projectors scattered throughout the Veluriyam Mirage It's said that \"If you place an object in the projector Then you can construct a corresponding item based on its original shape and the power of your imagination\" Exactly, but there is a slight problem... Well, for now, it can only display certain two-dimensional objects called a Preprint Travelers can open the Streaming Projector to enter the world of the Preprint and make some changes But if we try to move straight through, we might encounter some obstacles In that case We'll need to leave the Preprint world and move some external objects To change the environment inside Which will then allow us to pass through That sounds awesome, sounds super fun Success! Yeah, I can't wait to give it a try! In addition to the Preprints We'll also have a fun and new way to get around You might even be able to call it a game mode... It's called— the Choo-Choo Cart! Yeah, so with the Choo-Choo Cart, Travelers can go to Choo-Choo Cart stations in various areas of the Veluriyam Mirage to ride the cart Oh my gosh! This is so cool! I love this! It looks so fun It's like a little baby amusement cart! But not really baby, it's huge It's going to give me a headache, I can't do the leaps for sure So the Preprints and Choo-Choo Cart we just introduced were both open-world game modes But next, we have some event mini-games Yay, mini-games! First up is the Spino Blaster! So, get ready for this, guys. 'Cause this one got a long name So its technical name is: The Crocomorph Vortex-Based Crocodilian-Armored Heavy Naval Battleship-Style Recreational Water Blasting Cannon Wow! That's a big name! I think my head hurts Yeah, I was surprised you got through that Me, too! Well, apparently, it's said that \"The name is an accurate reflection of its appearance and its underlying principles\" Apparently... That's what it says... And it uses stored ammunition to fire Hydro bullets And as a note, because I know some of you will be concerned about this, the Hydro bullets that it fires are safe and they're used for leisure purposes only Safety first! Once it is out of ammunition It will take a certain amount of time to reload its supply Absolutely, but if you need to, we can also manually reload it at the right opportunity So, use the cannon to hit as many of the Target Balls as you can within the time limit to earn points Yeah, there are also different types of Target Balls to aim at These include Ordinormie, Tinyvantage, Brouhaha, Overdrive, and Dual-Charged Target Balls... Brouhaha That's quite the list... Yeah, some fun names in there, huh? So, a notable projectile is the Overdrive Ball Travelers can break it to enter an enhanced state During which you will gain infinite ammo Love it! Also, when your bullets hit the targets in this state, they will cause damage in a larger AoE Travelers will definitely have a blast with this mechanic— So give it a shot! Shoot for the stars! Thank you, thank you, I'll be here all day So next up, we have \"Sojourns of the Barking Fox\" Travelers will have to control the Barking Fox to reach the destination within the time limit They'll also have to collect as many Adventure Coins as possible while moving the Fox That sounds fun! So the coins are projections you can pass through? It looks so great! Doesn't it? So this mini-game will contain Sleetdross Fruit, which can obstruct Travelers' sight Players will also encounter Disruptor Orbs, which emit Disruption Waves But these Disruption Waves don't seem like they're dealing any real damage to us Yeah, thankfully not. So these Disruption Waves— they won't be damaging the Barking Fox They just trigger a sensor that reduces the remaining time of the challenge as well as your score So our little Barking Fox buddy will be safe! Ah! Love that, yeah! Now, guess what our next mini-game is... It's called \"Dance of Flashing Thought\" Nice, that totally sounds like a game for Eula Haha, right? It sounds like a dancing event But it's actually a combat mini-game It just happens to take place on a stage, and some of the game mechanics have been inspired by theater I love that theater Pretty fancy, right? So before starting, Travelers will be able to adjust their party to fit the special features of the different stages During the challenge, you can defeat opponents to accumulate Honed Will And once you've gathered enough You'll obtain Honed Focus effects And, that's what the light is! Go for it! Wow, they defeated all those monsters almost immediately Really cool, right? It seems like their movement speed increased Get destroyed... Haha... Yeah, that's one of the buffs that you can get. It's pretty epic! So epic! I love this! This is really fun Yeah, can't wait to play this! So finally, we have our last mini-game And the theme of this mini-game is... *drumroll* \"Finches are the cutest!\" What? Huh? Our last mini-game is called \"Bing-Bang Finchball\" So, I've got a finch fact It's said that when some finches take flight They'll press the tree branch down using their weight And slide down a short distance Before using the rebound to accelerate... So this cute little detail is one of the inspirations for Finchball! I see... okay You're going to be launching a certain number of Finchballs in order Place as many Finchballs as you can in high-scoring zones And reach the set scores to complete the challenges Yeap, and you'll need to know the differences between the various zones If the Finchball stops inside the red zone, you will earn 4 points If it stops within a yellow zone, you will earn 2 points And if it lands within a blue zone, it will just be 1 point Got it! So you're gonna wanna press the Launch button at the right time to set the direction Before entering the charging sequence Release the button to launch the Finchball in the corresponding direction So I know it may sound simple But you'll find that there's some finesse to getting it right~ In addition to ordinary Finchballs They also have some very special types Sticky Finchballs and Pretty Finchballs! Aww, I love that! Aww, look, the Sticky Finchball is giving you a little hug... That's so cute! Stop it! It's adorable, isn't it? I can't wait to see everyone try these mini-games out in Version 3.8! Oh, and I still have more news! In addition to our main in-game event We also have some info about upcoming events outside the game HoYo FEST 2023 is just around the corner! I'm so excited! Starting in July HoYoverse will continuously bring you all sorts of exciting online and offline HoYo FEST events— Whether it's HoYo FEST-exclusive merchandise Awesome offline events And rewards both in and out of the game We are excited to see our Travelers participate in these events! Travelers who would like to learn more about these events should follow Genshin Impact's official social media channels And keep an eye out for more related info in the future Oh heck yeah, I'm super excited! Let's go! Let's go! Also, Genshin Impact's third Commemorative OST album \"The Shimmering Voyage Vol. 3\" will be released during Version 3.8! I know some Travelers have been highly anticipating this one The album includes 3 discs by the HOYO-MiX team, which contain the original music of Version 3.0 to Version 3.8 This album will include music from storyline videos and animations, as well as version-specific events That's awesome Ah... I'm so excited for this... Wait! So... that means that it should include the Sabzeruz Festival and the Aranara music, right? I bet some Travelers remember that event The music was so good! Right? The album will also feature music from the Windblume Festival, Weinlesefest, and even the music from our Version 3.8 Veluriyam Mirage event! Let's check out a preview of the album! Welcome back, everyone! We've already introduced a bunch of exciting events But do we have other updates for this version? We still have lots of content to introduce! Everything we've covered so far was related to the limited-time map We still have more surprises for you! Ah, right! Let me see here... Okay, this is my part! Alright, then. Let's begin the third act of our story: Adventurer's Treasures! Where am I? What a strange place... Huh? Who are you two? That's exactly what we'd like to ask you, mister It's alright, I invited him here Welcome to Bottleland This is Bottleland!? Yes, that's right Hahaha! Alright, then where's the legendary treasure? It's right here on this map If you find it, then it's yours~ Wait, that's all there is to it!? Really? Uh, okay then... I didn't expect I'd get the info so easily! Let's see, the first event is called \"Shared Sight\" In this event Travelers will assist a researcher who is collecting experimental data We will need to use an item called the Inscribed Mirror To find and recover small animals in order to complete the experiment Wait, what!? Travelers may use the device linked to the Inscribed Mirror To view the environment from the animals' point of view Use the information from what you can see To figure out their location and recover them The second event is called \"Perilous Expedition\" Travelers will need to help a Liyue adventurer study Sumeru's geography and hydrology But despite its name, this will actually be a combat event Cool! I love fighting! Me too During the event, a new area will unlock for us to explore each day And we'll need to fight our way through Each exploration consists of 3 combat rounds If the team compositions are varied enough Then a stackable buff will be activated Each exploration has different challenges This will be a great chance for players to test out different character combinations I love that. Fun! Yeah, let's do it! Our third event is called \"Adventurer's Trials: Advanced\" The Branch Master of the Mondstadt Adventurers' Guild has prepared new challenges to help train rookie adventurers In the Sequential Trials You will need to pass three consecutive trial challenges in a single run As for Fortuitous Trials, three trial challenges Will be randomly generated after you enter the Domain There will be a variety of fun mini-games Such as flying and collecting Adventure Coins while dodging attacks Kicking Slimes into the goals And skillfully dodging various traps I love kicking Slimes... my favorite! Me too... haha But that's not all, Genius Invokation TCG will also be receiving an update Yes! New character cards will be added And a new game mode called \"The Forge Realm's Temper: Endless Swarm\" will be available in Version 3.8 Different stages will feature special rules with different buffs And a variety of opponents to battle against Defeat these opponents to increase your score Okay, I get it. So Travelers will need to pit their well-constructed decks Against endless waves of enemies for a set amount of rounds The more enemies you defeat, the more points you earn That's right Yes! Well, that covers everything we have for Version 3.8! Oh! I can't wait! Wow... excited! So much fighting... I love fighting Well, our story about the Bottleland expedition is finally drawing to a close What? Already? Wait wait wait— but what about our Little Mage? She still hasn't returned since she left home, right? Oh, you're right! Oh, it says here that the Little Mage saved the parched adventurer in the desert And the adventurer led her on a wonderful journey Okay cool, that tracks! Oh that's so cute~ (off-screen) Well, tell me: Did you enjoy this little story? Yeah, I liked it Yeah, I like stories It was okay (off-screen) Oh, what a tough crowd... But it's alright, I have another little tale that I'll share Once everyone has finished discussing their impressions from today Well, looks like it's that time again What did you all think about being on the Special Program today? Anything you're particularly looking forward to in Version 3.8? Erm, as a teaser You could say that the Secret Summer Paradise event Is a gift that Alice made for her daughter, Klee And I hope everyone can enjoy the adorable adventure And enjoy all the fun updates in this version! Like... the Sticky Finchballs. I love them so much! Yes, I know, I can't wait for all of it It all seems like so much fun I think my favorite's got to be the new outfits, I mean... Kaeya's outfit True! And Klee's Aww, the hat! I can't! I love them... You guys just listed some of my favorites, but... I also like, really, just kicking Slimes And the fact that... We're all coming back! Oh my gosh, yeah! I know! Alright, that's all we have for today's Special Program We hope to see everyone enjoying the new in-game events! Bye! Bye, everybody! Thank you! Now then... Let me tell you all a tale It's a cute story I hope it'll appear in your slumbering dreams tonight... Ready? Here we go In the Nation of Justice There is a little, upstanding Melusine She is considered to be the one of the most diligent in her duties, even among her kin Look how hard she's working for justice in this nation even today Don't let this little Melusine's size fool you What she lacks in size she makes up for in her sense of justice Bolstered by her convictions She patrols Fleuve Cendre fearlessly by herself If anyone suspicious appears Such as an unknown outlander... She'll be sure to watch their every move! But before anything suspicious occurs The just little Melusine will never act without authorization and accuse an innocent person... Well, not usually, that is But if the upstanding outlander isn't careful and finds themselves caught up in some misunderstanding... Then we can let the court decide their fate!```\n",
      "            \u001b[0m\n",
      "\n",
      "\u001b[1m> Finished chain.\u001b[0m\n",
      "\n",
      "\n",
      "\u001b[1m> Entering new  chain...\u001b[0m\n",
      "\n",
      "\n",
      "\u001b[1m> Entering new  chain...\u001b[0m\n",
      "Prompt after formatting:\n",
      "\u001b[32;1m\u001b[1;3mCombine all the youtube video transcripts  provided within backticks             ```Genshin Impact Version 3.8 Special Program\n",
      "\n",
      "The Special Program begins with a short introduction to the new version, which will feature a new limited-time map called the Veluriyam Mirage. The map is located in a desert and is said to be home to many secrets.\n",
      "\n",
      "The program then introduces the new characters and events that will be coming in Version 3.8. Klee and Eula will be returning with their own event wishes, and Kaeya will be getting his own Hangout Event. The main event for the version will take place in the Veluriyam Mirage and will feature a variety of new activities```\n",
      "            Provide a summary between 50-100 sentences.\n",
      "            \u001b[0m\n",
      "\n",
      "\u001b[1m> Finished chain.\u001b[0m\n",
      "\n",
      "\u001b[1m> Finished chain.\u001b[0m\n",
      "\n",
      "\u001b[1m> Finished chain.\u001b[0m\n"
     ]
    }
   ],
   "source": [
    "import re\n",
    "import os\n",
    "import textwrap\n",
    "# from langchain.llms import OpenAI\n",
    "from langchain.llms import VertexAI\n",
    "from langchain.prompts import PromptTemplate\n",
    "from langchain.chains.summarize import load_summarize_chain\n",
    "from langchain.document_loaders import YoutubeLoader\n",
    "from langchain.text_splitter import RecursiveCharacterTextSplitter\n",
    "\n",
    "os.environ['GOOGLE_APPLICATION_CREDENTIALS'] = './aiap-13-ds-7e16bb946970.json'\n",
    "\n",
    "\n",
    "def youtube_video_url_is_valid(url: str) -> bool:\n",
    "    pattern = r'^https:\\/\\/www\\.youtube\\.com\\/watch\\?v=([a-zA-Z0-9_-]+)(\\&ab_channel=[\\w\\d]+)?$'\n",
    "    match = re.match(pattern, url)\n",
    "    return match is not None\n",
    "\n",
    "\n",
    "# def find_insights(api_key: str, url: str) -> str:\n",
    "def find_insights(url: str) -> str:\n",
    "    try:\n",
    "        loader = YoutubeLoader.from_youtube_url(url, language=\"en-US\")\n",
    "        transcript = loader.load()\n",
    "    except Exception as e:\n",
    "        return f\"Error while loading YouTube video and transcript: {e}\"\n",
    "    try:\n",
    "        # llm = OpenAI(temperature=0.6, openai_api_key=api_key)\n",
    "        llm = VertexAI(temperature=0.3)\n",
    "        prompt = PromptTemplate(\n",
    "            template=\"\"\"Summarize the youtube video whose transcript is provided within backticks \\\n",
    "            ```{text}```\n",
    "            \"\"\", input_variables=[\"text\"]\n",
    "        )\n",
    "        combine_prompt = PromptTemplate(\n",
    "            template=\"\"\"Combine all the youtube video transcripts  provided within backticks \\\n",
    "            ```{text}```\n",
    "            Provide a summary between 50-100 sentences.\n",
    "            \"\"\", input_variables=[\"text\"]\n",
    "        )\n",
    "        text_splitter = RecursiveCharacterTextSplitter(\n",
    "            chunk_size=100000, chunk_overlap=50)\n",
    "        text = text_splitter.split_documents(transcript)\n",
    "        chain = load_summarize_chain(llm, chain_type=\"map_reduce\", verbose=True,\n",
    "                                     map_prompt=prompt, combine_prompt=combine_prompt)\n",
    "        answer = chain.run(text)\n",
    "    except Exception as e:\n",
    "        return f\"Error while processing and summarizing text: {e}\"\n",
    "\n",
    "    return answer.strip()\n",
    "\n",
    "\n",
    "# youtube_video_url = \"https://www.youtube.com/watch?v=-hxeDjAxvJ8\"\n",
    "# Version 3.8 Special Program｜Genshin Impact Youtube video\n",
    "youtube_video_url = \"https://www.youtube.com/watch?v=jlivBvu3Jrc\"\n",
    "if not youtube_video_url_is_valid(youtube_video_url):\n",
    "    print(\"Please enter a valid youtube video URL.\")\n",
    "\n",
    "answer = find_insights(youtube_video_url)"
   ]
  },
  {
   "cell_type": "code",
   "execution_count": 20,
   "metadata": {},
   "outputs": [
    {
     "name": "stdout",
     "output_type": "stream",
     "text": [
      "Genshin Impact Version 3.8 Special Program  The Special Program begins with a\n",
      "short introduction to the new version, which will feature a new limited-time map\n",
      "called the Veluriyam Mirage. The map is located in a desert and is said to be\n",
      "home to many secrets.  The program then introduces the new characters and events\n",
      "that will be coming in Version 3.8. Klee and Eula will be returning with their\n",
      "own event wishes, and Kaeya will be getting his own Hangout Event. The main\n",
      "event for the version will take place in the Veluriyam Mirage and will feature a\n",
      "variety of new activities\n",
      "---------------------------------\n",
      "\n",
      "\n"
     ]
    }
   ],
   "source": [
    "# Apply word wrapping and print the wrapped text\n",
    "width = 80\n",
    "wrapped_text = textwrap.fill(answer, width=width)\n",
    "print(wrapped_text)\n",
    "# print(answer)\n",
    "print(\"---------------------------------\")\n",
    "print(\"\\n\")"
   ]
  },
  {
   "cell_type": "code",
   "execution_count": 36,
   "metadata": {},
   "outputs": [],
   "source": [
    "# Save the summary to a text file\n",
    "with open(f'summary_english.txt', 'w', encoding='utf-8') as f:\n",
    "    f.write(wrapped_text)"
   ]
  },
  {
   "attachments": {},
   "cell_type": "markdown",
   "metadata": {},
   "source": [
    "To convert text into speech, we can consider using Text-to-Speech (TTS) services. Many companies offer these services, including Google (Google Text to Speech), Amazon (Amazon Polly), and Microsoft (Microsoft Azure Cognitive Services Text to Speech).\n",
    "\n",
    "The following illustrates how we can convert text into speech using Google Text to Speech in Python.\n",
    "\n",
    "First, we need to install the gTTS (Google Text-to-Speech) library. We can install it using pip:"
   ]
  },
  {
   "cell_type": "code",
   "execution_count": null,
   "metadata": {},
   "outputs": [],
   "source": [
    "!pip install gTTS"
   ]
  },
  {
   "cell_type": "code",
   "execution_count": 21,
   "metadata": {},
   "outputs": [
    {
     "data": {
      "text/plain": [
       "'Genshin Impact Version 3.8 Special Program  The Special Program begins with a\\nshort introduction to the new version, which will feature a new limited-time map\\ncalled the Veluriyam Mirage. The map is located in a desert and is said to be\\nhome to many secrets.  The program then introduces the new characters and events\\nthat will be coming in Version 3.8. Klee and Eula will be returning with their\\nown event wishes, and Kaeya will be getting his own Hangout Event. The main\\nevent for the version will take place in the Veluriyam Mirage and will feature a\\nvariety of new activities'"
      ]
     },
     "execution_count": 21,
     "metadata": {},
     "output_type": "execute_result"
    }
   ],
   "source": [
    "wrapped_text"
   ]
  },
  {
   "cell_type": "code",
   "execution_count": 24,
   "metadata": {},
   "outputs": [
    {
     "name": "stderr",
     "output_type": "stream",
     "text": [
      "[000055f9092ada00] main libvlc: Running vlc with the default interface. Use 'cvlc' to use vlc without interface.\n"
     ]
    },
    {
     "data": {
      "text/plain": [
       "0"
      ]
     },
     "execution_count": 24,
     "metadata": {},
     "output_type": "execute_result"
    }
   ],
   "source": [
    "from gtts import gTTS\n",
    "import os\n",
    "\n",
    "# the text that you want to convert to audio\n",
    "# text = \"your text here\"\n",
    "text = wrapped_text\n",
    "# language in which you want to convert\n",
    "language = 'en'\n",
    "\n",
    "# Passing the text and language to the engine,\n",
    "# here we have marked slow=False. Which tells\n",
    "# the module that the converted audio should\n",
    "# have a high speed\n",
    "myobj = gTTS(text=text, lang=language, slow=False)\n",
    "\n",
    "# Saving the converted audio in a mp3 file named\n",
    "# output\n",
    "myobj.save(\"output.mp3\")\n",
    "\n",
    "# Playing the converted file using VLC (assumed installed)\n",
    "# Use 'cvlc' to use vlc without interface.\n",
    "os.system(\"cvlc output.mp3\")"
   ]
  },
  {
   "cell_type": "code",
   "execution_count": 27,
   "metadata": {},
   "outputs": [
    {
     "name": "stderr",
     "output_type": "stream",
     "text": [
      "[0000555fe759ba00] main libvlc: Running vlc with the default interface. Use 'cvlc' to use vlc without interface.\n"
     ]
    },
    {
     "data": {
      "text/plain": [
       "0"
      ]
     },
     "execution_count": 27,
     "metadata": {},
     "output_type": "execute_result"
    }
   ],
   "source": [
    "from gtts import gTTS\n",
    "import os\n",
    "\n",
    "# the text that you want to convert to audio\n",
    "# text = \"your text here\"\n",
    "text = wrapped_text\n",
    "# language in which you want to convert\n",
    "language = 'zh-CN'  # 'zh-CN' for Mandarin Chinese\n",
    "\n",
    "# Passing the text and language to the engine,\n",
    "# here we have marked slow=False. Which tells\n",
    "# the module that the converted audio should\n",
    "# have a high speed\n",
    "myobj = gTTS(text=text, lang=language, slow=False)\n",
    "\n",
    "# Saving the converted audio in a mp3 file named\n",
    "# output\n",
    "myobj.save(\"output-zh-CN.mp3\")\n",
    "\n",
    "# Playing the converted file using VLC (assumed installed)\n",
    "# Use 'cvlc' to use vlc without interface.\n",
    "os.system(\"cvlc output-zh-CN.mp3\")"
   ]
  },
  {
   "attachments": {},
   "cell_type": "markdown",
   "metadata": {},
   "source": [
    "https://www.thepythoncode.com/article/translate-text-in-python\n",
    "\n",
    "\n",
    "https://pypi.org/project/googletrans-py/\n",
    "\n",
    "Convert English text to multilingual, currently trying to resolve technical issues with the GoogleTrans library\n"
   ]
  },
  {
   "cell_type": "code",
   "execution_count": null,
   "metadata": {},
   "outputs": [],
   "source": [
    "from googletrans import Translator, constants\n",
    "from pprint import pprint\n",
    "# init the Google API translator\n",
    "translator = Translator()\n",
    "\n",
    "# translate a English text to Chinese text\n",
    "translation = translator.translate(wrapped_text, dest=\"zh-CN\")\n",
    "print(f\"{translation.origin} ({translation.src}) --> {translation.text} ({translation.dest})\")"
   ]
  },
  {
   "cell_type": "code",
   "execution_count": null,
   "metadata": {},
   "outputs": [],
   "source": [
    "from googletrans import Translator\n",
    "\n",
    "translator = Translator()\n",
    "text_to_translate = \"Hello, world!\"\n",
    "languages = ['ms', 'ta', 'zh-CN']  # Malay, Tamil, and Mandarin\n",
    "\n",
    "for language in languages:\n",
    "    translation = translator.translate(text_to_translate, dest=language)\n",
    "\n",
    "    # Save the translation to a text file\n",
    "    with open(f'translation_{language}.txt', 'w', encoding='utf-8') as f:\n",
    "        f.write(translation.text)\n",
    "\n",
    "    print(f\"In {language}, '{text_to_translate}' translates to: '{translation.text}' and is saved in 'translation_{language}.txt'\")"
   ]
  },
  {
   "attachments": {},
   "cell_type": "markdown",
   "metadata": {},
   "source": [
    "Does not seem to work yet with the AISG Google Cloud account, to investigate further"
   ]
  },
  {
   "cell_type": "code",
   "execution_count": null,
   "metadata": {},
   "outputs": [],
   "source": [
    "!pip install --upgrade google-cloud-texttospeech"
   ]
  },
  {
   "cell_type": "code",
   "execution_count": null,
   "metadata": {},
   "outputs": [],
   "source": [
    "from google.cloud import texttospeech\n",
    "\n",
    "# Create a client\n",
    "client = texttospeech.TextToSpeechClient()\n",
    "\n",
    "# Set the text input to be synthesized\n",
    "synthesis_input = texttospeech.SynthesisInput(text=wrapped_text)\n",
    "\n",
    "# Build the voice request, select the language code (\"zh-CN\" for Chinese)\n",
    "# and the WaveNet model (\"en-US-Wavenet-F\" for US English)\n",
    "voice = texttospeech.VoiceSelectionParams(\n",
    "    language_code=\"zh-CN\", ssml_gender=texttospeech.SsmlVoiceGender.FEMALE\n",
    ")\n",
    "\n",
    "# Select the type of audio file you want\n",
    "audio_config = texttospeech.AudioConfig(\n",
    "    audio_encoding=texttospeech.AudioEncoding.MP3\n",
    ")\n",
    "\n",
    "# Perform the text-to-speech request on the text input with the selected\n",
    "# voice parameters and audio file type\n",
    "response = client.synthesize_speech(\n",
    "    input=synthesis_input, voice=voice, audio_config=audio_config\n",
    ")\n",
    "\n",
    "# The response's audio_content is binary.\n",
    "with open(\"output_zh-CN.mp3\", \"wb\") as out:\n",
    "    out.write(response.audio_content)\n",
    "    print('Audio content written to file \"output_zh-CN.mp3\"')"
   ]
  },
  {
   "attachments": {},
   "cell_type": "markdown",
   "metadata": {},
   "source": [
    "Alternatively,we could use a Python package like pygame to play the audio file directly from our script, like so:"
   ]
  },
  {
   "cell_type": "code",
   "execution_count": null,
   "metadata": {},
   "outputs": [],
   "source": [
    "!pip install pygame"
   ]
  },
  {
   "cell_type": "code",
   "execution_count": 25,
   "metadata": {},
   "outputs": [
    {
     "name": "stdout",
     "output_type": "stream",
     "text": [
      "pygame 2.5.0 (SDL 2.28.0, Python 3.10.11)\n",
      "Hello from the pygame community. https://www.pygame.org/contribute.html\n",
      "Press 'p' to pause, 'r' to resume\n",
      "Press 'e' to exit the program\n"
     ]
    }
   ],
   "source": [
    "from pygame import mixer\n",
    "\n",
    "# Starting the mixer\n",
    "mixer.init()\n",
    "\n",
    "# Loading the song\n",
    "mixer.music.load(\"output.mp3\")\n",
    "\n",
    "# Setting the volume\n",
    "mixer.music.set_volume(0.7)\n",
    "\n",
    "# Start playing the song\n",
    "mixer.music.play()\n",
    "\n",
    "# infinite loop\n",
    "while True:\n",
    "\n",
    "    print(\"Press 'p' to pause, 'r' to resume\")\n",
    "    print(\"Press 'e' to exit the program\")\n",
    "    query = input(\" \")\n",
    "\n",
    "    if query == 'p':\n",
    "\n",
    "        # Pausing the music\n",
    "        mixer.music.pause()\n",
    "    elif query == 'r':\n",
    "\n",
    "        # Resuming the music\n",
    "        mixer.music.unpause()\n",
    "    elif query == 'e':\n",
    "\n",
    "        # Stop the mixer\n",
    "        mixer.music.stop()\n",
    "        break"
   ]
  },
  {
   "attachments": {},
   "cell_type": "markdown",
   "metadata": {},
   "source": [
    "The following code snippets are adapted from \n",
    "\n",
    "https://github.com/JorisdeJong123/7-Days-of-LangChain/blob/main/day_5/podcast.py\n",
    "\n",
    "by replacing \n",
    "- the podcast url with a game release YouTube video url.\n",
    "- the Langchain OpenAI LLM chatmodel with the VertexAI LLM chatmodel.\n"
   ]
  },
  {
   "cell_type": "code",
   "execution_count": 3,
   "metadata": {},
   "outputs": [],
   "source": [
    "# GAME RELEASE VIDEO Q&A BOT\n",
    "import sys\n",
    "import textwrap\n",
    "\n",
    "from langchain.text_splitter import TokenTextSplitter\n",
    "from langchain.chat_models import ChatVertexAI\n",
    "from langchain.document_loaders import YoutubeLoader\n",
    "from langchain.embeddings import VertexAIEmbeddings\n",
    "from langchain.vectorstores import FAISS\n",
    "from langchain.chains import RetrievalQA"
   ]
  },
  {
   "cell_type": "code",
   "execution_count": 7,
   "metadata": {},
   "outputs": [
    {
     "data": {
      "text/plain": [
       "[Document(page_content='Long, long ago, there was a place in the desert called Bottleland... Hmm? You wanted to learn more about Bottleland? I left that place long ago... But I still clearly remember its beautiful sights, even to this day Whenever travelers ask me how to travel to Bottleland I warn them that the desert is a very dangerous place Despite the risks... There will always be enthusiastic newcomers who venture into the desert... Haha! The treasures of Bottleland are as good as mine! I\\'m sorry, Mom... I shouldn\\'t have played with magic like that... Now I can\\'t find my way back home The desert entices people with hope... But it devours that hope from the moment they step foot within its scorching domain... But that magic bottle can bring forth an endless and refreshing spring Revitalizing the hopes that had shriveled in the arid desert My dear, weary traveler... Why do you wish to enter the desert? Are you so determined to find Bottleland? Alright... I\\'ll help you then She\\'s so solid and tough, but also clear and open... like an ice cube Is that why she\\'s able to dance anytime and anywhere she wishes? Klee, quick! Get in the light... Coming! Kaeya can be the \"Master Thief\" Mr. Honorary Knight can be... the \"Knight\" And Paimon will be the \"Fairy\" Ahem! Now, as the caretaker and your mascot, I shall announce your respective adventure duties! Hee-hee, let\\'s go!!! This cart is fast! Chugga-chugga, chugga-chugga, woo-woooo! Hehe, I\\'m gonna call it the Choo-Choo Cart! Uh, seems Kokomi\\'s out of it after that ride... Look at that huge tent... Do any of you have experience being on stage? Once the stage lights turn on, everyone\\'s attention is focused on you Uh... I can\\'t stand that feeling... \"Mommy is busy these days and can\\'t take you out to play But there\\'s good news — I have a friend who has very kindly invited you to visit her!\" Hello, everyone! Welcome to the Genshin Impact Version 3.8 Special Program! Woo-hoo! Yay! I\\'m your host, Zach Aguilar, the voice of Aether! And as always, I\\'m joined by some very special guests today... Hello everybody! I\\'m Poonam Basu And I voice Spark Knight Klee of the Knights of Favonius! She\\'s so cute Hello everyone! I\\'m Risa Mei The voice of Watatsumi Island\\'s Divine Priestess, Sangonomiya Kokomi Wow, so relaxing and elegant... And I am Suzie Yeung The voice of the Captain of the Reconnaissance Company And the Spindrift Knight, Eula! \"Vengeance will be mine!\" Whoa! Mark my words! I will. I\\'m super excited to have you all on the program today And I believe this is the first time we\\'ve had Risa and Suzie with us! Oh my gosh, yay! Yeah! I get to be mini Eula! You\\'re so cute I\\'ve always wanted to be on the special program Oh my gosh, yeah! I\\'m so happy, yeah! I\\'m glad to have you both here this time We have an interesting format for today\\'s special program We\\'ll be taking on some acting roles As we explore a mysterious ancient desert nation known as Bottleland And in this process, we\\'ll be revealing upcoming content for the new version Please note that these special roles are not the characters we play in Genshin Impact But just for the setting of our story today! Ooh, that sounds so interesting So what are everybody\\'s roles? I\\'ll be playing a treasure-seeking adventurer in the desert I\\'m a little mage who left Bottleland So fitting~ And guess what I\\'ll be? A knight from Bottleland Perfect! And I\\'ll be... a guide from Bottleland Wow! W—Wait a second How come I\\'m the only one not from Bottleland!? \"Outlander, your journey ends here!\" Nooo! Uh... You\\'re not invited What? I guess I\\'m just kidding, Zach. It\\'s fine Okay, good, whew... And this fairytale game has a Game Master, let\\'s welcome... Hey everyone! I\\'m Rachel Kimsey And I\\'m the voice of Mage Alice I\\'ll be telling the fairytale with you! Now, let\\'s begin exploring the first act of our story: \"The Little Mage\\'s Magic\" Oh, umm, wait, are we starting already? Yep! Let\\'s see what the fairytale will reveal first... And... action! The exact location of Bottleland can\\'t be found on any map Its very existence can be difficult to prove But I know of a mage who once used her magic powers to leave Bottleland The Little Mage was practicing her magic as the Grand Mage had instructed... As usual, she started slacking off during her practice She already knew the Grand Mage\\'s magic tomes from cover to cover And she stumbled on some strange incantations in the newer books Teleportation magic!? ...Oh, I want to visit every kingdom that I\\'ve read about in the storybooks! The Little Mage was very brave and confident So she was not afraid of venturing out on her own In fact, she believed that the bad guys were the ones who should be afraid of her After taking a few moments to compose herself She began to recite the new magic spells she had just learned The God of Fortune was evidently looking after her Without even knowing her destination The Little Bottleland Mage left her home Wow, it really worked. Amazing! The Little Mage seemed like a child in a candy shop with an endless amount of Mora in her pocket She was excited to try all the different incantations she found As if they were different flavors of candy Divination magic? \"When spring water drops down pure and clear, into the future one may peer\"... Oh, this is just what I need! The Little Mage simply believed that these were miracles that were foretold in the prophecy Alright... Let\\'s look at what the bottle foresees! Show me what we\\'ll find in this adventure! Oh, it looks like the info on the upcoming event wishes has appeared Yep In the first part of Version 3.8 Klee and Eula will be returning with their own event wishes I\\'m so happy that Klee\\'s back, you guys! It\\'s been 84 years... And now I\\'m back with a vengeance Yeah! Okay... Besides us, who else can we expect for the next part? Well, looks like for the next part of Version 3.8 We\\'ll have returning event wishes for Sangonomiya Kokomi and the Wanderer Great! Yeah! This will be the perfect chance to hang out with some old friends Oooh, okay, speaking of hangouts... Kaeya will get his very own Hangout Event in Version 3.8 Nice Nice! I love Kaeya! These Hangout Events are great for getting to know more about a character Kaeya definitely has always been quite the mysterious guy So I\\'m super curious as to what we\\'ll get to learn about him Oh, look! The bottle is still changing! Klee-fi-fo-fum, I\\'m a mage just like my mom! Psst, c\\'mon, let\\'s sneak off on an adventure! But nobody else can know This is amazing, Klee and Kaeya are both getting new outfits! No way Wow, Klee\\'s outfit actually makes her look like a little mage! Aww! She\\'s so cute! I\\'m so excited, y\\'all She\\'s like a little toadstool! Oh, guys look at Kaeya! Kaeya\\'s outfit seems to be pirate-themed I love this for Kaeya Wait, y\\'all, I bet the styles of these outfits are somehow related to Version 3.8\\'s main event story Oh, okay... Well, I mean... I don\\'t know about anybody else But I\\'m a little bit curious about what kind of events we\\'ll see, too You know what, before we get to that Why don\\'t we take a quick break and grab our second Redemption Code! Sweet, totally! Welcome back to the Version 3.8 Special Program We\\'ll be continuing our story about exploring the mysterious and ancient place known as Bottleland Our last clues came from the Little Mage... But I don\\'t have any more story to share for now Well, I guess I have something here... It looks like \"the Knight and the Guide will be reunited in Bottleland\" Okay then, shall we continue our performance? Hehe, welcome back everyone Let\\'s continue our story with Act 2: Legend of the Magic Bottle Of course, there were travelers who found and entered Bottleland Though most travelers chose to remain there There were also some who decided to return to their homelands But, their accounts of Bottleland were all very different If you ask me... it\\'s been too long since I\\'ve left that place... Ahem, shouldn\\'t we call it the \"Veluriyam Mirage\"? \"Welcome back, dear knight\" We\\'re in Bottleland! Yep yep, and we\\'ve found lots of information to share with everybody, so strap in! So first of all, we have our main event for Version 3.8, which won\\'t be on an island like usual Instead, it takes place inside a bottle located somewhere in the desert There will be many items called Joyeux Vouchers, which are scattered throughout the areas Travelers will be able to collect them to obtain some rewards Yep, including Kaeya\\'s new outfit! Yes! I need to get that... Well, since it\\'s the desert I think it\\'s safe to assume that we\\'ll be seeing a variety of terrain, you think? Uh, I hope the vouchers won\\'t be hidden in some extremely hard-to-reach places It might be I know, right? But there\\'s no need to worry Because the Travelers are going to have some tools to assist them in their search So, for example right, we can use these crystals to help us locate vouchers more easily And, in addition to collecting vouchers Bottleland also has many unique attractions Absolutely! So first up, we have the Preprints There are Streaming Projectors scattered throughout the Veluriyam Mirage It\\'s said that \"If you place an object in the projector Then you can construct a corresponding item based on its original shape and the power of your imagination\" Exactly, but there is a slight problem... Well, for now, it can only display certain two-dimensional objects called a Preprint Travelers can open the Streaming Projector to enter the world of the Preprint and make some changes But if we try to move straight through, we might encounter some obstacles In that case We\\'ll need to leave the Preprint world and move some external objects To change the environment inside Which will then allow us to pass through That sounds awesome, sounds super fun Success! Yeah, I can\\'t wait to give it a try! In addition to the Preprints We\\'ll also have a fun and new way to get around You might even be able to call it a game mode... It\\'s called— the Choo-Choo Cart! Yeah, so with the Choo-Choo Cart, Travelers can go to Choo-Choo Cart stations in various areas of the Veluriyam Mirage to ride the cart Oh my gosh! This is so cool! I love this! It looks so fun It\\'s like a little baby amusement cart! But not really baby, it\\'s huge It\\'s going to give me a headache, I can\\'t do the leaps for sure So the Preprints and Choo-Choo Cart we just introduced were both open-world game modes But next, we have some event mini-games Yay, mini-games! First up is the Spino Blaster! So, get ready for this, guys. \\'Cause this one got a long name So its technical name is: The Crocomorph Vortex-Based Crocodilian-Armored Heavy Naval Battleship-Style Recreational Water Blasting Cannon Wow! That\\'s a big name! I think my head hurts Yeah, I was surprised you got through that Me, too! Well, apparently, it\\'s said that \"The name is an accurate reflection of its appearance and its underlying principles\" Apparently... That\\'s what it says... And it uses stored ammunition to fire Hydro bullets And as a note, because I know some of you will be concerned about this, the Hydro bullets that it fires are safe and they\\'re used for leisure purposes only Safety first! Once it is out of ammunition It will take a certain amount of time to reload its supply Absolutely, but if you need to, we can also manually reload it at the right opportunity So, use the cannon to hit as many of the Target Balls as you can within the time limit to earn points Yeah, there are also different types of Target Balls to aim at These include Ordinormie, Tinyvantage, Brouhaha, Overdrive, and Dual-Charged Target Balls... Brouhaha That\\'s quite the list... Yeah, some fun names in there, huh? So, a notable projectile is the Overdrive Ball Travelers can break it to enter an enhanced state During which you will gain infinite ammo Love it! Also, when your bullets hit the targets in this state, they will cause damage in a larger AoE Travelers will definitely have a blast with this mechanic— So give it a shot! Shoot for the stars! Thank you, thank you, I\\'ll be here all day So next up, we have \"Sojourns of the Barking Fox\" Travelers will have to control the Barking Fox to reach the destination within the time limit They\\'ll also have to collect as many Adventure Coins as possible while moving the Fox That sounds fun! So the coins are projections you can pass through? It looks so great! Doesn\\'t it? So this mini-game will contain Sleetdross Fruit, which can obstruct Travelers\\' sight Players will also encounter Disruptor Orbs, which emit Disruption Waves But these Disruption Waves don\\'t seem like they\\'re dealing any real damage to us Yeah, thankfully not. So these Disruption Waves— they won\\'t be damaging the Barking Fox They just trigger a sensor that reduces the remaining time of the challenge as well as your score So our little Barking Fox buddy will be safe! Ah! Love that, yeah! Now, guess what our next mini-game is... It\\'s called \"Dance of Flashing Thought\" Nice, that totally sounds like a game for Eula Haha, right? It sounds like a dancing event But it\\'s actually a combat mini-game It just happens to take place on a stage, and some of the game mechanics have been inspired by theater I love that theater Pretty fancy, right? So before starting, Travelers will be able to adjust their party to fit the special features of the different stages During the challenge, you can defeat opponents to accumulate Honed Will And once you\\'ve gathered enough You\\'ll obtain Honed Focus effects And, that\\'s what the light is! Go for it! Wow, they defeated all those monsters almost immediately Really cool, right? It seems like their movement speed increased Get destroyed... Haha... Yeah, that\\'s one of the buffs that you can get. It\\'s pretty epic! So epic! I love this! This is really fun Yeah, can\\'t wait to play this! So finally, we have our last mini-game And the theme of this mini-game is... *drumroll* \"Finches are the cutest!\" What? Huh? Our last mini-game is called \"Bing-Bang Finchball\" So, I\\'ve got a finch fact It\\'s said that when some finches take flight They\\'ll press the tree branch down using their weight And slide down a short distance Before using the rebound to accelerate... So this cute little detail is one of the inspirations for Finchball! I see... okay You\\'re going to be launching a certain number of Finchballs in order Place as many Finchballs as you can in high-scoring zones And reach the set scores to complete the challenges Yeap, and you\\'ll need to know the differences between the various zones If the Finchball stops inside the red zone, you will earn 4 points If it stops within a yellow zone, you will earn 2 points And if it lands within a blue zone, it will just be 1 point Got it! So you\\'re gonna wanna press the Launch button at the right time to set the direction Before entering the charging sequence Release the button to launch the Finchball in the corresponding direction So I know it may sound simple But you\\'ll find that there\\'s some finesse to getting it right~ In addition to ordinary Finchballs They also have some very special types Sticky Finchballs and Pretty Finchballs! Aww, I love that! Aww, look, the Sticky Finchball is giving you a little hug... That\\'s so cute! Stop it! It\\'s adorable, isn\\'t it? I can\\'t wait to see everyone try these mini-games out in Version 3.8! Oh, and I still have more news! In addition to our main in-game event We also have some info about upcoming events outside the game HoYo FEST 2023 is just around the corner! I\\'m so excited! Starting in July HoYoverse will continuously bring you all sorts of exciting online and offline HoYo FEST events— Whether it\\'s HoYo FEST-exclusive merchandise Awesome offline events And rewards both in and out of the game We are excited to see our Travelers participate in these events! Travelers who would like to learn more about these events should follow Genshin Impact\\'s official social media channels And keep an eye out for more related info in the future Oh heck yeah, I\\'m super excited! Let\\'s go! Let\\'s go! Also, Genshin Impact\\'s third Commemorative OST album \"The Shimmering Voyage Vol. 3\" will be released during Version 3.8! I know some Travelers have been highly anticipating this one The album includes 3 discs by the HOYO-MiX team, which contain the original music of Version 3.0 to Version 3.8 This album will include music from storyline videos and animations, as well as version-specific events That\\'s awesome Ah... I\\'m so excited for this... Wait! So... that means that it should include the Sabzeruz Festival and the Aranara music, right? I bet some Travelers remember that event The music was so good! Right? The album will also feature music from the Windblume Festival, Weinlesefest, and even the music from our Version 3.8 Veluriyam Mirage event! Let\\'s check out a preview of the album! Welcome back, everyone! We\\'ve already introduced a bunch of exciting events But do we have other updates for this version? We still have lots of content to introduce! Everything we\\'ve covered so far was related to the limited-time map We still have more surprises for you! Ah, right! Let me see here... Okay, this is my part! Alright, then. Let\\'s begin the third act of our story: Adventurer\\'s Treasures! Where am I? What a strange place... Huh? Who are you two? That\\'s exactly what we\\'d like to ask you, mister It\\'s alright, I invited him here Welcome to Bottleland This is Bottleland!? Yes, that\\'s right Hahaha! Alright, then where\\'s the legendary treasure? It\\'s right here on this map If you find it, then it\\'s yours~ Wait, that\\'s all there is to it!? Really? Uh, okay then... I didn\\'t expect I\\'d get the info so easily! Let\\'s see, the first event is called \"Shared Sight\" In this event Travelers will assist a researcher who is collecting experimental data We will need to use an item called the Inscribed Mirror To find and recover small animals in order to complete the experiment Wait, what!? Travelers may use the device linked to the Inscribed Mirror To view the environment from the animals\\' point of view Use the information from what you can see To figure out their location and recover them The second event is called \"Perilous Expedition\" Travelers will need to help a Liyue adventurer study Sumeru\\'s geography and hydrology But despite its name, this will actually be a combat event Cool! I love fighting! Me too During the event, a new area will unlock for us to explore each day And we\\'ll need to fight our way through Each exploration consists of 3 combat rounds If the team compositions are varied enough Then a stackable buff will be activated Each exploration has different challenges This will be a great chance for players to test out different character combinations I love that. Fun! Yeah, let\\'s do it! Our third event is called \"Adventurer\\'s Trials: Advanced\" The Branch Master of the Mondstadt Adventurers\\' Guild has prepared new challenges to help train rookie adventurers In the Sequential Trials You will need to pass three consecutive trial challenges in a single run As for Fortuitous Trials, three trial challenges Will be randomly generated after you enter the Domain There will be a variety of fun mini-games Such as flying and collecting Adventure Coins while dodging attacks Kicking Slimes into the goals And skillfully dodging various traps I love kicking Slimes... my favorite! Me too... haha But that\\'s not all, Genius Invokation TCG will also be receiving an update Yes! New character cards will be added And a new game mode called \"The Forge Realm\\'s Temper: Endless Swarm\" will be available in Version 3.8 Different stages will feature special rules with different buffs And a variety of opponents to battle against Defeat these opponents to increase your score Okay, I get it. So Travelers will need to pit their well-constructed decks Against endless waves of enemies for a set amount of rounds The more enemies you defeat, the more points you earn That\\'s right Yes! Well, that covers everything we have for Version 3.8! Oh! I can\\'t wait! Wow... excited! So much fighting... I love fighting Well, our story about the Bottleland expedition is finally drawing to a close What? Already? Wait wait wait— but what about our Little Mage? She still hasn\\'t returned since she left home, right? Oh, you\\'re right! Oh, it says here that the Little Mage saved the parched adventurer in the desert And the adventurer led her on a wonderful journey Okay cool, that tracks! Oh that\\'s so cute~ (off-screen) Well, tell me: Did you enjoy this little story? Yeah, I liked it Yeah, I like stories It was okay (off-screen) Oh, what a tough crowd... But it\\'s alright, I have another little tale that I\\'ll share Once everyone has finished discussing their impressions from today Well, looks like it\\'s that time again What did you all think about being on the Special Program today? Anything you\\'re particularly looking forward to in Version 3.8? Erm, as a teaser You could say that the Secret Summer Paradise event Is a gift that Alice made for her daughter, Klee And I hope everyone can enjoy the adorable adventure And enjoy all the fun updates in this version! Like... the Sticky Finchballs. I love them so much! Yes, I know, I can\\'t wait for all of it It all seems like so much fun I think my favorite\\'s got to be the new outfits, I mean... Kaeya\\'s outfit True! And Klee\\'s Aww, the hat! I can\\'t! I love them... You guys just listed some of my favorites, but... I also like, really, just kicking Slimes And the fact that... We\\'re all coming back! Oh my gosh, yeah! I know! Alright, that\\'s all we have for today\\'s Special Program We hope to see everyone enjoying the new in-game events! Bye! Bye, everybody! Thank you! Now then... Let me tell you all a tale It\\'s a cute story I hope it\\'ll appear in your slumbering dreams tonight... Ready? Here we go In the Nation of Justice There is a little, upstanding Melusine She is considered to be the one of the most diligent in her duties, even among her kin Look how hard she\\'s working for justice in this nation even today Don\\'t let this little Melusine\\'s size fool you What she lacks in size she makes up for in her sense of justice Bolstered by her convictions She patrols Fleuve Cendre fearlessly by herself If anyone suspicious appears Such as an unknown outlander... She\\'ll be sure to watch their every move! But before anything suspicious occurs The just little Melusine will never act without authorization and accuse an innocent person... Well, not usually, that is But if the upstanding outlander isn\\'t careful and finds themselves caught up in some misunderstanding... Then we can let the court decide their fate!', metadata={'source': 'jlivBvu3Jrc', 'title': 'Version 3.8 Special Program｜Genshin Impact', 'description': 'Unknown', 'view_count': 1158787, 'thumbnail_url': 'https://i.ytimg.com/vi/jlivBvu3Jrc/hq720.jpg?v=64959834', 'publish_date': '2023-06-23 00:00:00', 'length': 2013, 'author': 'Genshin Impact'})]"
      ]
     },
     "execution_count": 7,
     "metadata": {},
     "output_type": "execute_result"
    }
   ],
   "source": [
    "# # Version 3.8 Special Program｜Genshin Impact Youtube video\n",
    "loader = YoutubeLoader.from_youtube_url(\n",
    "    'https://www.youtube.com/watch?v=jlivBvu3Jrc',\n",
    "    add_video_info=True,\n",
    "    language=[\"en-US\"])\n",
    "\n",
    "data = loader.load()\n",
    "data"
   ]
  },
  {
   "cell_type": "code",
   "execution_count": 8,
   "metadata": {},
   "outputs": [],
   "source": [
    "text_splitter_summary = TokenTextSplitter(\n",
    "    chunk_size=10000, chunk_overlap=250)\n",
    "# Initialize text splitter for QA (Smaller chunks for better QA)\n",
    "text_splitter_qa = TokenTextSplitter(chunk_size=1000, chunk_overlap=200)\n",
    "# Split text into docs for QA\n",
    "docs_qa = text_splitter_qa.split_documents(data)"
   ]
  },
  {
   "cell_type": "code",
   "execution_count": 12,
   "metadata": {},
   "outputs": [],
   "source": [
    "# Create the LLM model for the question answering\n",
    "llm_question_answer = ChatVertexAI(temperature=0.2)\n",
    "# Create the vector database and RetrievalQA Chain\n",
    "embeddings = VertexAIEmbeddings()\n",
    "# embeddings = OpenAIEmbeddings(openai_api_key=openai_api_key)\n",
    "db = FAISS.from_documents(docs_qa, embeddings)\n",
    "qa = RetrievalQA.from_chain_type(\n",
    "    llm=llm_question_answer, chain_type=\"stuff\", retriever=db.as_retriever())"
   ]
  },
  {
   "cell_type": "code",
   "execution_count": 13,
   "metadata": {},
   "outputs": [
    {
     "name": "stdout",
     "output_type": "stream",
     "text": [
      "The video is about the new events and updates coming to Genshin Impact in\n",
      "version 3.8. The events include Shared Sight, Perilous Expedition, Adventurer's\n",
      "Trials: Advanced, and Bing-Bang Finchball. The updates include new character\n",
      "cards and a new game mode for Genius Invokation TCG, as well as new outfits for\n",
      "Kaeya and Klee. The video also features a new trailer for the upcoming HoYo FEST\n",
      "2023 and a preview of the third Commemorative OST album \"The Shimmering Voyage\n",
      "Vol. 3\".\n",
      "---------------------------------\n",
      "\n",
      "\n",
      "The main points of the video are: - Version 3.8's main event will take place\n",
      "inside a bottle located somewhere in the desert. - Travelers will be able to\n",
      "collect Joyeux Vouchers to obtain rewards, including Kaeya's new outfit. - There\n",
      "are two new attractions in Bottleland: Preprints and Choo-Choo Cart. - Preprints\n",
      "are two-dimensional objects that can be used to construct items. - Choo-Choo\n",
      "Cart is a new way to get around the Veluriyam Mirage. - There are also several\n",
      "new mini-games in Version 3.\n",
      "---------------------------------\n",
      "\n",
      "\n",
      "Goodbye, and have a nice day!\n",
      "---------------------------------\n",
      "\n",
      "\n"
     ]
    }
   ],
   "source": [
    "# Set the desired width limit for wrapping\n",
    "width = 80\n",
    "\n",
    "try:\n",
    "    # Your code here\n",
    "\n",
    "    question = \"\"\n",
    "    history = []\n",
    "    # Run the QA chain continuously & end when the user types \"exit\" or \"quit\"\n",
    "    while question.lower() not in [\"exit\", \"quit\"]:\n",
    "        # Get the user question\n",
    "        question = input(\"Ask a question or enter exit to close the app: \")\n",
    "        # Run the QA chain to query the Youtube video transcript\n",
    "        # answer = qa.run(question, callbacks=[cb])\n",
    "        answer = qa.run(question)\n",
    "        history.append(answer)\n",
    "        # Apply word wrapping and print the wrapped text\n",
    "        wrapped_text = textwrap.fill(answer, width=width)\n",
    "        print(wrapped_text)\n",
    "        # print(answer)\n",
    "        print(\"---------------------------------\")\n",
    "        print(\"\\n\")\n",
    "\n",
    "except KeyboardInterrupt:\n",
    "    sys.exit()"
   ]
  },
  {
   "cell_type": "code",
   "execution_count": 14,
   "metadata": {},
   "outputs": [
    {
     "data": {
      "text/plain": [
       "['The video is about the new events and updates coming to Genshin Impact in version 3.8. The events include Shared Sight, Perilous Expedition, Adventurer\\'s Trials: Advanced, and Bing-Bang Finchball. The updates include new character cards and a new game mode for Genius Invokation TCG, as well as new outfits for Kaeya and Klee. The video also features a new trailer for the upcoming HoYo FEST 2023 and a preview of the third Commemorative OST album \"The Shimmering Voyage Vol. 3\".',\n",
       " \"The main points of the video are:\\n- Version 3.8's main event will take place inside a bottle located somewhere in the desert.\\n- Travelers will be able to collect Joyeux Vouchers to obtain rewards, including Kaeya's new outfit.\\n- There are two new attractions in Bottleland: Preprints and Choo-Choo Cart.\\n- Preprints are two-dimensional objects that can be used to construct items.\\n- Choo-Choo Cart is a new way to get around the Veluriyam Mirage.\\n- There are also several new mini-games in Version 3.\",\n",
       " 'Goodbye, and have a nice day!']"
      ]
     },
     "execution_count": 14,
     "metadata": {},
     "output_type": "execute_result"
    }
   ],
   "source": [
    "history"
   ]
  },
  {
   "cell_type": "code",
   "execution_count": 38,
   "metadata": {},
   "outputs": [],
   "source": [
    "# Save the summary to a text file\n",
    "with open('QA_conversation_history.txt', 'w', encoding='utf-8') as f:\n",
    "    f.write('\\n'.join(history))"
   ]
  },
  {
   "cell_type": "code",
   "execution_count": null,
   "metadata": {},
   "outputs": [],
   "source": []
  }
 ],
 "metadata": {
  "kernelspec": {
   "display_name": "vertexai-sdk-env",
   "language": "python",
   "name": "python3"
  },
  "language_info": {
   "codemirror_mode": {
    "name": "ipython",
    "version": 3
   },
   "file_extension": ".py",
   "mimetype": "text/x-python",
   "name": "python",
   "nbconvert_exporter": "python",
   "pygments_lexer": "ipython3",
   "version": "3.10.11"
  },
  "orig_nbformat": 4
 },
 "nbformat": 4,
 "nbformat_minor": 2
}
