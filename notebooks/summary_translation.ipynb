{
 "cells": [
  {
   "attachments": {},
   "cell_type": "markdown",
   "metadata": {},
   "source": [
    "### Translation"
   ]
  },
  {
   "attachments": {},
   "cell_type": "markdown",
   "metadata": {},
   "source": [
    "Input: summarised English text file<br>\n",
    "Output: translated text file"
   ]
  },
  {
   "attachments": {},
   "cell_type": "markdown",
   "metadata": {},
   "source": [
    "Using: \n",
    "- [translate-api 4.9.5](https://pypi.org/project/translate-api/)\n",
    "- Google Translate via translators API"
   ]
  },
  {
   "cell_type": "code",
   "execution_count": 1,
   "metadata": {},
   "outputs": [
    {
     "name": "stderr",
     "output_type": "stream",
     "text": [
      "Using region  server backend.\n",
      "\n"
     ]
    }
   ],
   "source": [
    "sfrom pathlib import Path\n",
    "import translators as ts"
   ]
  },
  {
   "cell_type": "code",
   "execution_count": null,
   "metadata": {},
   "outputs": [],
   "source": [
    "# Environment setup\n",
    "#!pip install translators --upgrade\n",
    "# Install Java"
   ]
  },
  {
   "cell_type": "code",
   "execution_count": 3,
   "metadata": {},
   "outputs": [
    {
     "name": "stdout",
     "output_type": "stream",
     "text": [
      "Genshin Impact Version 3.8 Special Program  The Special Program starts with a\n",
      "short introduction of the game, followed by a trailer for the new version. The\n",
      "trailer shows off the new characters, weapons, and events coming in Version 3.8.\n",
      "After the trailer, the hosts introduce themselves and the guests. The guests are\n",
      "Klee, Eula, and Kaeya.  The hosts then explain the format for the Special\n",
      "Program. They will be taking on some acting roles as they explore a mysterious\n",
      "ancient desert nation known as Bottleland. In this process, they will be\n",
      "revealing upcoming content for the new version.\n"
     ]
    }
   ],
   "source": [
    "# Read .txt file \n",
    "filepath = 'summary_english.txt'\n",
    "summary_en = Path(filepath).read_text()\n",
    "print (summary_en)"
   ]
  },
  {
   "cell_type": "code",
   "execution_count": 8,
   "metadata": {},
   "outputs": [
    {
     "name": "stdout",
     "output_type": "stream",
     "text": [
      "Genshin Impact Version 3.8 Program Khas Program Khas bermula dengan a\n",
      "pengenalan pendek permainan, diikuti oleh treler untuk versi baru. The\n",
      "treler menunjukkan watak, senjata, dan peristiwa baru yang datang dalam Versi 3.8.\n",
      "Selepas treler, tuan rumah memperkenalkan diri dan tetamu. Para tetamu adalah\n",
      "Klee, Eula, dan Kaeya.  Tuan rumah kemudian menerangkan format untuk Special\n",
      "Program. Mereka akan mengambil beberapa peranan lakonan ketika mereka meneroka misteri\n",
      "negara padang pasir purba yang dikenali sebagai Bottleland. Dalam proses ini, mereka akan menjadi\n",
      "Mendedahkan kandungan akan datang untuk versi baharu.\n"
     ]
    }
   ],
   "source": [
    "# Translate to preferred language\n",
    "lang_trans = 'ms'\n",
    "\n",
    "summary_ms = ts.translate_text(summary_en,from_language='auto',to_language=lang_trans)\n",
    "print(summary_ms)"
   ]
  },
  {
   "cell_type": "code",
   "execution_count": 9,
   "metadata": {},
   "outputs": [],
   "source": [
    "# Save the summary to a text file\n",
    "with open(f'summary_{lang_trans}.txt', 'w', encoding='utf-8') as f:\n",
    "    f.write(summary_ms)\n"
   ]
  },
  {
   "cell_type": "code",
   "execution_count": 11,
   "metadata": {},
   "outputs": [
    {
     "name": "stdout",
     "output_type": "stream",
     "text": [
      "['alibaba', 'apertium', 'argos', 'baidu', 'bing', 'caiyun', 'cloudYi', 'deepl', 'elia', 'google', 'iciba', 'iflytek', 'iflyrec', 'itranslate', 'judic', 'languageWire', 'lingvanex', 'niutrans', 'mglip', 'modernMt', 'myMemory', 'papago', 'qqFanyi', 'qqTranSmart', 'reverso', 'sogou', 'sysTran', 'tilde', 'translateCom', 'translateMe', 'utibet', 'volcEngine', 'yandex', 'yeekit', 'youdao']\n",
      "Help on method translate_text in module translators.server:\n",
      "\n",
      "translate_text(query_text: str, translator: str = 'bing', from_language: str = 'auto', to_language: str = 'en', if_use_preacceleration: bool = False, **kwargs: Union[str, int, float, bool, dict]) -> Union[str, dict] method of translators.server.TranslatorsServer instance\n",
      "    :param query_text: str, must.\n",
      "    :param translator: str, default 'bing'.\n",
      "    :param from_language: str, default 'auto'.\n",
      "    :param to_language: str, default 'en'.\n",
      "    :param if_use_preacceleration: bool, default False.\n",
      "    :param **kwargs:\n",
      "            :param is_detail_result: bool, default False.\n",
      "            :param professional_field: str, support alibaba(), baidu(), caiyun(), cloudYi(), elia(), sysTran(), youdao(), volcEngine() only.\n",
      "            :param timeout: float, default None.\n",
      "            :param proxies: dict, default None.\n",
      "            :param sleep_seconds: float, default 0.\n",
      "            :param update_session_after_freq: int, default 1000.\n",
      "            :param update_session_after_seconds: float, default 1500.\n",
      "            :param if_use_cn_host: bool, default False. Support google(), bing() only.\n",
      "            :param reset_host_url: str, default None. Support google(), argos(), yandex() only.\n",
      "            :param if_check_reset_host_url: bool, default True. Support google(), yandex() only.\n",
      "            :param if_ignore_empty_query: bool, default False.\n",
      "            :param if_ignore_limit_of_length: bool, default False.\n",
      "            :param limit_of_length: int, default 20000.\n",
      "            :param if_show_time_stat: bool, default False.\n",
      "            :param show_time_stat_precision: int, default 2.\n",
      "            :param if_print_warning: bool, default True.\n",
      "            :param lingvanex_model: str, default 'B2C', choose from (\"B2C\", \"B2B\").\n",
      "            :param myMemory_mode: str, default \"web\", choose from (\"web\", \"api\").\n",
      "    :return: str or dict\n",
      "\n",
      "None\n"
     ]
    }
   ],
   "source": [
    "# For reference\n",
    "print(ts.translators_pool)\n",
    "print(help(ts.translate_text))"
   ]
  },
  {
   "attachments": {},
   "cell_type": "markdown",
   "metadata": {},
   "source": [
    "### Translated text to audio"
   ]
  },
  {
   "cell_type": "code",
   "execution_count": 10,
   "metadata": {},
   "outputs": [],
   "source": [
    "from gtts import gTTS\n",
    "#import os\n",
    "\n",
    "# the text that you want to convert to audio\n",
    "# text = \"your text here\"\n",
    "text = summary_ms\n",
    "# language in which you want to convert\n",
    "language = lang_trans\n",
    "\n",
    "# Passing the text and language to the engine,\n",
    "# here we have marked slow=False. Which tells\n",
    "# the module that the converted audio should\n",
    "# have a high speed\n",
    "myobj = gTTS(text=text, lang=language, slow=False)\n",
    "\n",
    "# Saving the converted audio in a mp3 file named\n",
    "# output\n",
    "myobj.save(\"output_{}.mp3\".format(language))\n",
    "\n",
    "# Playing the converted file using VLC (assumed installed)\n",
    "# Use 'cvlc' to use vlc without interface.\n",
    "#os.system(\"vlc output.mp3\")"
   ]
  },
  {
   "attachments": {},
   "cell_type": "markdown",
   "metadata": {},
   "source": [
    "### Other Considerations"
   ]
  },
  {
   "attachments": {},
   "cell_type": "markdown",
   "metadata": {},
   "source": [
    "- Current translators API interface is highly dependent on availability\n",
    "    - If Google Translate is down, or updated in a way that translators API is unable to use it, access to translate will be lost\n",
    "    - Consider changing to backup translators if exception encountered while using Google Translate\n",
    "    - Yandex, Bing, Tencent, Sogou are alternative options for Malay\n",
    "    - For other languages, Yandex and Bing support the most languages after Google hence best to fall on those two as backup.\n",
    "- Text-to-speech Component Alternatives:\n",
    "    - [bark](https://github.com/suno-ai/bark): More natural speech, however language support is not as diverse"
   ]
  },
  {
   "attachments": {},
   "cell_type": "markdown",
   "metadata": {},
   "source": [
    "### Modular Testing"
   ]
  },
  {
   "cell_type": "code",
   "execution_count": 2,
   "metadata": {},
   "outputs": [
    {
     "name": "stderr",
     "output_type": "stream",
     "text": [
      "Using region  server backend.\n",
      "\n"
     ]
    }
   ],
   "source": [
    "import sys\n",
    "sys.path.append('/Users/zhihaoong/AIAP/mini-project/game-review-tts/src')\n",
    "from translation import Translation\n",
    "\n",
    "# Instantiate class\n",
    "ts=Translation()"
   ]
  },
  {
   "attachments": {},
   "cell_type": "markdown",
   "metadata": {},
   "source": [
    "#### Testing Summarised Text Translation"
   ]
  },
  {
   "cell_type": "code",
   "execution_count": 2,
   "metadata": {},
   "outputs": [
    {
     "name": "stdout",
     "output_type": "stream",
     "text": [
      "Input Language: auto\n",
      "Language not found, will be auto-detected by translator.\n",
      "\n",
      "Translate to: Chinese (Simplified)\n",
      "Language Code: zh-CHS\n",
      "\n",
      "Input text: \n",
      " Genshin Impact Version 3.8 Special Program  The Special Program starts with a\n",
      "short introduction of the game, followed by a trailer for the new version. The\n",
      "trailer shows off the new characters, weapons, and events coming in Version 3.8.\n",
      "After the trailer, the hosts introduce themselves and the guests. The guests are\n",
      "Klee, Eula, and Kaeya.  The hosts then explain the format for the Special\n",
      "Program. They will be taking on some acting roles as they explore a mysterious\n",
      "ancient desert nation known as Bottleland. In this process, they will be\n",
      "revealing upcoming content for the new version.\n",
      "原神影响3.8版特别节目 特别节目从\n",
      "游戏的简短介绍，然后是新版本的预告片。这\n",
      "预告片展示了 3.8 版中即将推出的新角色、武器和事件。\n",
      "预告片结束后，主持人自我介绍和客人。客人是\n",
      "可莉、优菈和凯亚。 然后主持人解释特别节目的形式\n",
      "程序。他们将在探索神秘的\n",
      "被称为瓶地的古老沙漠国家。在这个过程中，他们将\n",
      "揭示新版本即将推出的内容。\n",
      "File saved to summary_zh-CHS.txt\n",
      "Audio reading saved to output_zh-CN.mp3\n"
     ]
    }
   ],
   "source": [
    "filepath = 'summary_english.txt'\n",
    "output_lang = 'Chinese (Simplified)'\n",
    "audio = True\n",
    "\n",
    "# Translate Summarised Text\n",
    "ts.translate_text(filepath=filepath,output_lang=output_lang,audio=audio)"
   ]
  },
  {
   "attachments": {},
   "cell_type": "markdown",
   "metadata": {},
   "source": [
    "#### Testing QA Bot Input and Response Processing"
   ]
  },
  {
   "cell_type": "code",
   "execution_count": 1,
   "metadata": {},
   "outputs": [],
   "source": [
    "qabot_input = '简短介绍'\n",
    "qabot_response = 'Yes, this is an apple.'"
   ]
  },
  {
   "cell_type": "code",
   "execution_count": 4,
   "metadata": {},
   "outputs": [
    {
     "name": "stdout",
     "output_type": "stream",
     "text": [
      "简短介绍\n",
      "Input Language: auto\n",
      "Language not found, will be auto-detected by translator.\n",
      "\n",
      "Translate to: None\n",
      "Language not found in the dictionary. Change to default English.                   \n",
      "Language Code: en\n",
      "Short introduction\n"
     ]
    },
    {
     "data": {
      "text/plain": [
       "'Short introduction'"
      ]
     },
     "execution_count": 4,
     "metadata": {},
     "output_type": "execute_result"
    }
   ],
   "source": [
    "# Input\n",
    "print(qabot_input)\n",
    "ts.translate_text(qa_str=qabot_input,qa_response=False)"
   ]
  },
  {
   "cell_type": "code",
   "execution_count": 6,
   "metadata": {},
   "outputs": [
    {
     "name": "stdout",
     "output_type": "stream",
     "text": [
      "Yes, this is an apple.\n",
      "Input Language: auto\n",
      "Language not found, will be auto-detected by translator.\n",
      "\n",
      "Translate to: Chinese (Simplified)\n",
      "Language Code: zh-CHS\n",
      "\n",
      "是的，这是一个苹果。\n",
      "Audio reading saved to output_zh-CN.mp3\n"
     ]
    },
    {
     "data": {
      "text/plain": [
       "'是的，这是一个苹果。'"
      ]
     },
     "execution_count": 6,
     "metadata": {},
     "output_type": "execute_result"
    }
   ],
   "source": [
    "# Response\n",
    "print(qabot_response)\n",
    "ts.translate_text(qa_str=qabot_response,qa_response=True,output_lang='Chinese (Simplified)')"
   ]
  },
  {
   "cell_type": "code",
   "execution_count": null,
   "metadata": {},
   "outputs": [],
   "source": []
  }
 ],
 "metadata": {
  "kernelspec": {
   "display_name": "miniproj",
   "language": "python",
   "name": "python3"
  },
  "language_info": {
   "codemirror_mode": {
    "name": "ipython",
    "version": 3
   },
   "file_extension": ".py",
   "mimetype": "text/x-python",
   "name": "python",
   "nbconvert_exporter": "python",
   "pygments_lexer": "ipython3",
   "version": "3.11.4"
  },
  "orig_nbformat": 4
 },
 "nbformat": 4,
 "nbformat_minor": 2
}
